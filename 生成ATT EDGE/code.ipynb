{
 "cells": [
  {
   "cell_type": "code",
   "execution_count": 1,
   "metadata": {},
   "outputs": [],
   "source": [
    "import numpy as np\n",
    "import pandas as pd\n",
    "import random\n",
    "import csv\n",
    "from collections import defaultdict as ddict"
   ]
  },
  {
   "cell_type": "code",
   "execution_count": 18,
   "metadata": {},
   "outputs": [],
   "source": [
    "random.seed(123)\n",
    "V_list = []\n",
    "E = ddict(list) #source2target\n",
    "\n",
    "with open(\"s_V.csv\",'r', encoding='ANSI') as file:\n",
    "    reader = csv.reader(file)\n",
    "    users = list(reader)\n",
    "for u in users:\n",
    "    V_list.append(u[0])\n",
    "\n",
    "\n",
    "with open(\"s_E.csv\",'r', encoding='ANSI') as file:\n",
    "    reader = csv.reader(file)\n",
    "    s_edges = list(reader)\n",
    "for e in s_edges:\n",
    "    if e[1] not in E[e[0]]:\n",
    "        E[e[0]].append(e[1])\n",
    "    if e[0] not in V_list:\n",
    "        V_list.append(e[0])\n",
    "    if e[1] not in V_list:\n",
    "        V_list.append(e[1])\n",
    "\n",
    "s_num = len(V_list)\n",
    "\n",
    "with open(\"n_V.csv\",'r', encoding='ANSI') as file:\n",
    "    reader = csv.reader(file)\n",
    "    users = list(reader)\n",
    "for u in users:\n",
    "    V_list.append(u[0])\n",
    "\n",
    "\n",
    "with open(\"n_E.csv\",'r', encoding='ANSI') as file:\n",
    "    reader = csv.reader(file)\n",
    "    n_edges = list(reader)\n",
    "for e in n_edges:\n",
    "    if e[1] not in E[e[0]]:\n",
    "        E[e[0]].append(e[1])\n",
    "    if e[0] not in V_list:\n",
    "        V_list.append(e[0])\n",
    "    if e[1] not in V_list:\n",
    "        V_list.append(e[1])\n"
   ]
  },
  {
   "cell_type": "code",
   "execution_count": 14,
   "metadata": {},
   "outputs": [
    {
     "name": "stdout",
     "output_type": "stream",
     "text": [
      "3878\n"
     ]
    }
   ],
   "source": [
    "a = 0\n",
    "for i in E.values():\n",
    "    a += len(i)\n",
    "\n",
    "print(a)"
   ]
  },
  {
   "cell_type": "code",
   "execution_count": 19,
   "metadata": {},
   "outputs": [
    {
     "name": "stdout",
     "output_type": "stream",
     "text": [
      "798\n",
      "1639\n"
     ]
    }
   ],
   "source": [
    "print(s_num)\n",
    "print(len(V_list))"
   ]
  },
  {
   "cell_type": "code",
   "execution_count": null,
   "metadata": {},
   "outputs": [],
   "source": [
    "# 现在，我们考虑产生attack edges，就先考虑产生300条吧。随机从原社交网络中选300个点，随即从PA网络中选300个点，然后一一连接即可。\n",
    "attack_edges = 300\n",
    "nodes1 = np.random.choice(V_list[:(s_num-1)], attack_edges)\n",
    "nodes2 = np.random.choice(V_list[s_num:], attack_edges)\n",
    "for i in range(attack_edges):\n",
    "    # if nodes1[i] not in E[nodes2[i]]:\n",
    "    #     E[nodes2[i]].append(nodes1[i])\n",
    "    if nodes2[i] not in E[nodes1[i]]:\n",
    "        E[nodes1[i]].append(nodes2[i])"
   ]
  },
  {
   "cell_type": "code",
   "execution_count": 5,
   "metadata": {},
   "outputs": [],
   "source": [
    "random.seed(123)\n",
    "V_list = []\n",
    "N_list=[]\n",
    "E = ddict(list) #source2target\n",
    "\n",
    "with open(\"s_E.csv\",'r', encoding='ANSI') as file:\n",
    "    reader = csv.reader(file)\n",
    "    s_edges = list(reader)\n",
    "for e in s_edges:\n",
    "    if e[1] not in E[e[0]]:\n",
    "        E[e[0]].append(e[1])\n",
    "    if e[0] not in V_list:\n",
    "        V_list.append(e[0])\n",
    "    if e[1] not in V_list:\n",
    "        V_list.append(e[1])\n",
    "with open(\"n_E.csv\",'r', encoding='ANSI') as file:\n",
    "    reader = csv.reader(file)\n",
    "    n_edges = list(reader)\n",
    "for e in n_edges:\n",
    "    if e[1] not in E[e[0]]:\n",
    "        E[e[0]].append(e[1])\n",
    "    if e[0] not in V_list:\n",
    "        N_list.append(e[0])\n",
    "    if e[1] not in V_list:\n",
    "        N_list.append(e[1])\n",
    "\n"
   ]
  },
  {
   "cell_type": "code",
   "execution_count": 8,
   "metadata": {},
   "outputs": [],
   "source": [
    "for i in N_list:\n",
    "    if i in V_list:\n",
    "        print('exist')"
   ]
  }
 ],
 "metadata": {
  "kernelspec": {
   "display_name": "Python 3.9.2 64-bit",
   "language": "python",
   "name": "python3"
  },
  "language_info": {
   "codemirror_mode": {
    "name": "ipython",
    "version": 3
   },
   "file_extension": ".py",
   "mimetype": "text/x-python",
   "name": "python",
   "nbconvert_exporter": "python",
   "pygments_lexer": "ipython3",
   "version": "3.9.2"
  },
  "orig_nbformat": 4,
  "vscode": {
   "interpreter": {
    "hash": "7acb2566f01bf27888f586609b378558894aa82f04dc781041790cf6d0c45f57"
   }
  }
 },
 "nbformat": 4,
 "nbformat_minor": 2
}
