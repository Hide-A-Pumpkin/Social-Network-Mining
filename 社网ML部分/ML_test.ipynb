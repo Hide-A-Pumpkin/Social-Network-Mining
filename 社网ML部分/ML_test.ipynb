{
 "cells": [
  {
   "cell_type": "markdown",
   "metadata": {},
   "source": [
    "# 异常用户检测——机器学习方法"
   ]
  },
  {
   "cell_type": "markdown",
   "metadata": {},
   "source": [
    "数据加载和预处理\n",
    "\n",
    "1. 贝叶斯\n",
    "\n",
    "2. KNN\n",
    "\n",
    "3. 决策树\n",
    "\n",
    "4. SVM\n",
    "\n",
    "5. 随机森林\n",
    "\n",
    "6. Adaboost"
   ]
  },
  {
   "cell_type": "code",
   "execution_count": 62,
   "metadata": {},
   "outputs": [],
   "source": [
    "from sklearn.feature_extraction import DictVectorizer  \n",
    "import csv  \n",
    "from sklearn import preprocessing  \n",
    "from sklearn import tree  \n",
    "import numpy as np\n",
    "\n",
    " \n",
    "import scipy as sp  \n",
    "from sklearn.metrics import precision_recall_curve  \n",
    "from sklearn.metrics import classification_report   \n",
    "from sklearn.model_selection import train_test_split \n",
    "\n",
    "from sklearn.datasets import load_iris\n",
    "\n",
    "import sys\n",
    "import os       \n",
    "\n",
    "import matplotlib.pyplot as plt\n",
    "from sklearn.datasets import load_files  \n",
    "from sklearn.feature_extraction.text import  CountVectorizer  \n",
    "from sklearn.feature_extraction.text import  TfidfVectorizer  \n",
    "from sklearn.naive_bayes import GaussianNB,MultinomialNB\n",
    "from sklearn.neighbors import KNeighborsClassifier\n",
    "from sklearn.tree import DecisionTreeClassifier\n",
    "from sklearn.svm import SVC\n",
    "from sklearn.model_selection import cross_val_score\n",
    "from sklearn.ensemble import RandomForestClassifier,AdaBoostClassifier\n",
    "import pandas as pd"
   ]
  },
  {
   "cell_type": "code",
   "execution_count": 95,
   "metadata": {},
   "outputs": [
    {
     "name": "stdout",
     "output_type": "stream",
     "text": [
      "<class 'pandas.core.frame.DataFrame'>\n",
      "RangeIndex: 1789 entries, 0 to 1788\n",
      "Data columns (total 38 columns):\n",
      " #   Column            Non-Null Count  Dtype  \n",
      "---  ------            --------------  -----  \n",
      " 0   微博数               1789 non-null   int64  \n",
      " 1   粉丝数               1789 non-null   int64  \n",
      " 2   关注数               1789 non-null   int64  \n",
      " 3   is_spammer        1789 non-null   object \n",
      " 4   follow_ratio      1789 non-null   float64\n",
      " 5   like_count        1789 non-null   int64  \n",
      " 6   repost_count      1789 non-null   int64  \n",
      " 7   comment_count     1789 non-null   int64  \n",
      " 8   tweet_count       1789 non-null   int64  \n",
      " 9   ave_like          1789 non-null   float64\n",
      " 10  ave_repost        1789 non-null   float64\n",
      " 11  ave_comment       1789 non-null   float64\n",
      " 12  att_count         1789 non-null   int64  \n",
      " 13  jing_count        1789 non-null   int64  \n",
      " 14  zhuanfa_count     1789 non-null   int64  \n",
      " 15  url_count         1789 non-null   int64  \n",
      " 16  ave_att           1789 non-null   float64\n",
      " 17  ave_jing          1789 non-null   float64\n",
      " 18  ave_zhuanfa       1789 non-null   float64\n",
      " 19  ave_url           1789 non-null   float64\n",
      " 20  fan_fan_ave       1789 non-null   float64\n",
      " 21  followed_fan_ave  1789 non-null   float64\n",
      " 22  mutual            1789 non-null   int64  \n",
      " 23  sina_helper_fan   1789 non-null   bool   \n",
      " 24  has_intro         1789 non-null   int64  \n",
      " 25  theme_num         1789 non-null   int64  \n",
      " 26  most_theme_pct    1789 non-null   float64\n",
      " 27  most_theme_       1789 non-null   float64\n",
      " 28  most_theme_0      1789 non-null   float64\n",
      " 29  most_theme_1      1789 non-null   float64\n",
      " 30  most_theme_2      1789 non-null   float64\n",
      " 31  most_theme_3      1789 non-null   float64\n",
      " 32  most_theme_4      1789 non-null   float64\n",
      " 33  most_theme_5      1789 non-null   float64\n",
      " 34  most_theme_6      1789 non-null   float64\n",
      " 35  most_theme_7      1789 non-null   float64\n",
      " 36  most_theme_8      1789 non-null   float64\n",
      " 37  simiscore         1789 non-null   float64\n",
      "dtypes: bool(1), float64(22), int64(14), object(1)\n",
      "memory usage: 519.0+ KB\n"
     ]
    },
    {
     "data": {
      "image/png": "[encoded data removed]",
      "text/plain": [
       "<Figure size 432x288 with 1 Axes>"
      ]
     },
     "metadata": {
      "needs_background": "light"
     },
     "output_type": "display_data"
    }
   ],
   "source": [
    "# Visualizing Dataset\n",
    "# 一些简单的可视化，方便我们选择特征\n",
    "# dataset = pd.read_csv(r\"spammer.csv\",encoding='UTF-8')\n",
    "# dataset = dataset.drop([\"user_id\",'user_name','user_image','homepage','gender','message'], axis = 1) #把user id等无关变量去掉\n",
    "\n",
    "\n",
    "# real/fake dataset\n",
    "# dataset = pd.read_csv(r\"new/new_usr_info.csv\",encoding='UTF-8')\n",
    "# dataset = dataset.drop([\"id\",'昵称','性别','地区','教育','阳光信用','注册时间','个人简介'], axis = 1) #把user id等无关变量去掉\n",
    "\n",
    "# dataset = pd.read_csv(r\"new/usr_info_with_theme.csv\",encoding='UTF-8')\n",
    "# dataset = dataset.drop(['Unnamed: 0','id','昵称','性别','地区','教育','阳光信用','注册时间','个人简介'], axis = 1) #把user id等无关变量去掉\n",
    "\n",
    "\n",
    "dataset = pd.read_csv(r\"usrs_with_simi.csv\",encoding='UTF-8')\n",
    "dataset = dataset.drop(['Unnamed: 0','Unnamed: 0.1','id','昵称','性别','地区','教育','阳光信用','注册时间','个人简介'], axis = 1) #把user id等无关变量去掉\n",
    "\n",
    "dataset.info()\n",
    "\n",
    "spammer = dataset[dataset.is_spammer == \"yes\"]\n",
    "non_spammer = dataset[dataset.is_spammer == \"no\"]\n",
    "\n",
    "# plt.title(\"comment_count vs follow_ratio\")#选取横纵坐标分别为相似文本个数和地址\n",
    "plt.xlabel(\"fans num\")\n",
    "plt.ylabel(\"follow ratio\")\n",
    "plt.scatter(spammer['粉丝数'], spammer.follow_ratio, color = \"red\", label = \"Spammer\", alpha = 0.3)\n",
    "plt.scatter(non_spammer['粉丝数'], non_spammer.follow_ratio, color = \"lime\", label = \"Hammer\", alpha = 0.3)\n",
    "plt.legend()\n",
    "plt.show()\n"
   ]
  },
  {
   "cell_type": "markdown",
   "metadata": {},
   "source": [
    "## 1. Bayes Method\n",
    "\n",
    "gaussian bayes\n",
    "\n",
    "multinomial bayes\n",
    "\n",
    "...\n",
    "\n"
   ]
  },
  {
   "cell_type": "code",
   "execution_count": 98,
   "metadata": {},
   "outputs": [
    {
     "name": "stdout",
     "output_type": "stream",
     "text": [
      "五折交叉验证结果：\t 0.513129 (+/- 0.046122)\n",
      "Gaussian Bayes Method Result:\n",
      "              precision    recall  f1-score   support\n",
      "\n",
      "         yes      0.524     0.984     0.684       186\n",
      "          no      0.667     0.035     0.066       172\n",
      "\n",
      "    accuracy                          0.528       358\n",
      "   macro avg      0.596     0.509     0.375       358\n",
      "weighted avg      0.593     0.528     0.387       358\n",
      "\n"
     ]
    },
    {
     "name": "stderr",
     "output_type": "stream",
     "text": [
      "d:\\python3.9\\lib\\site-packages\\sklearn\\utils\\validation.py:993: DataConversionWarning: A column-vector y was passed when a 1d array was expected. Please change the shape of y to (n_samples, ), for example using ravel().\n",
      "  y = column_or_1d(y, warn=True)\n"
     ]
    }
   ],
   "source": [
    "# Gaussian Bayes method\n",
    "# 高斯贝叶斯方法\n",
    "x = dataset.drop([\"is_spammer\",'sina_helper_fan'], axis = 1)\n",
    "x = (x - np.min(x)) / (np.max(x) - np.min(x)) #归一化变量\n",
    "lb = preprocessing.LabelBinarizer()  #标签变成0-1向量\n",
    "y = lb.fit_transform(dataset.is_spammer)  \n",
    "x_train, x_test, y_train, y_test = train_test_split(x, y, test_size = 0.2, random_state = 42)#划分为训练集和测试集\n",
    "nb = GaussianNB()\n",
    "clf = nb.fit(x_train, y_train)\n",
    "answer = clf.predict_proba(x_test)[:,1]  \n",
    "report = answer > 0.5  \n",
    "scores = cross_val_score(nb, x, y.ravel(), cv=5,scoring='accuracy')\n",
    "print('五折交叉验证结果：\\t %6f'%scores.mean()+' (+/- %6f)'%(scores.std()*2))\n",
    "print('Gaussian Bayes Method Result:')\n",
    "print(classification_report(y_test, report, target_names = ['yes', 'no'],digits=3)) "
   ]
  },
  {
   "cell_type": "code",
   "execution_count": 77,
   "metadata": {},
   "outputs": [
    {
     "name": "stdout",
     "output_type": "stream",
     "text": [
      "五折交叉验证结果：\t 0.688101 (+/- 0.094693)\n",
      "Multinomial Bayes Method Result:\n",
      "              precision    recall  f1-score   support\n",
      "\n",
      "         yes      0.755     0.613     0.677       186\n",
      "          no      0.652     0.785     0.712       172\n",
      "\n",
      "    accuracy                          0.696       358\n",
      "   macro avg      0.704     0.699     0.694       358\n",
      "weighted avg      0.706     0.696     0.694       358\n",
      "\n"
     ]
    },
    {
     "name": "stderr",
     "output_type": "stream",
     "text": [
      "d:\\python3.9\\lib\\site-packages\\sklearn\\utils\\validation.py:993: DataConversionWarning: A column-vector y was passed when a 1d array was expected. Please change the shape of y to (n_samples, ), for example using ravel().\n",
      "  y = column_or_1d(y, warn=True)\n"
     ]
    }
   ],
   "source": [
    "# Multinomial Bayes Method\n",
    "# 多项式贝叶斯\n",
    "nb = MultinomialNB()\n",
    "clf = nb.fit(x_train, y_train)\n",
    "answer = clf.predict_proba(x_test)[:,1]  \n",
    "report = answer > 0.5  \n",
    "scores = cross_val_score(nb, x, y.ravel(), cv=5,scoring='accuracy')\n",
    "print('五折交叉验证结果：\\t %6f'%scores.mean()+' (+/- %6f)'%(scores.std()*2))\n",
    "print('Multinomial Bayes Method Result:')\n",
    "print(classification_report(y_test, report, target_names = ['yes', 'no'],digits=3)) "
   ]
  },
  {
   "cell_type": "code",
   "execution_count": 63,
   "metadata": {},
   "outputs": [
    {
     "name": "stdout",
     "output_type": "stream",
     "text": [
      "results of naive bayes:\n",
      "     precision\trecall\tf-score\n",
      "yes   0.67 \t 0.86 \t 0.76\n",
      "no    0.89 \t 0.73 \t 0.8\n",
      "avg   0.78 \t 0.8 \t 0.78\n"
     ]
    }
   ],
   "source": [
    "class Bayes():\n",
    "    def naive_bayes(self,filename):\n",
    "        '''\n",
    "        朴素贝叶斯分类器\n",
    "        优点：快，易懂\n",
    "        缺点: 通过观察法选择参数和baseline，非常不靠谱\n",
    "        '''\n",
    "\n",
    "        # attnum=4 #attribute number\n",
    "        attrname=['content_similar','figure_url','figure_jing','follow_ratio','average_repost','class','figure_at','is_regular'] #attribute name\n",
    "        attrnum = len(attrname)\n",
    "        baseline=[10,0.3,0.2,3,0.1,3,0.1,0.5] #baseline that divide attribute number into high part and low part\n",
    "        group_num=10 #分成十组，九组训练一组验证\n",
    "        \n",
    "        precision1=0.0\n",
    "        recall1=0.0\n",
    "        precision2=0.0\n",
    "        recall2=0.0\n",
    "        f1score1=0.0\n",
    "        f1score2=0.0\n",
    "\n",
    "        class attributes:\n",
    "            name=''\n",
    "            high_spam=0\n",
    "            low_spam=0\n",
    "            high_nonspam=0\n",
    "            low_nonspam=0\n",
    "            baseline=0.0\n",
    "            num=0.0\n",
    "            sum=0\n",
    "            spam_sum=0\n",
    "            nonspam_sum=0\n",
    "\n",
    "        attlist = [ attributes() for i in range(attrnum)] \n",
    "                \n",
    "        for i in range(attrnum):\n",
    "            attlist[i].name=attrname[i]\n",
    "            attlist[i].baseline=baseline[i]\n",
    "\n",
    "        rownum=1\n",
    "        for test_group in range(group_num): #将第i组作为测试组\n",
    "            with open(filename,\"r\",encoding='UTF-8') as csvfile:\n",
    "                reader = csv.DictReader(csvfile)\n",
    "                for row in reader:\n",
    "                    rownum=rownum+1\n",
    "                    if rownum%group_num!=test_group: \n",
    "                        for i in range(attrnum):                 \n",
    "                            attlist[i].num=float(row.get(attlist[i].name))\n",
    "                            is_spam=row.get('is_spammer')\n",
    "                            if attlist[i].num>=attlist[i].baseline and is_spam=='yes':\n",
    "                                attlist[i].high_spam=attlist[i].high_spam+1\n",
    "                            elif attlist[i].num<attlist[i].baseline and is_spam=='yes':\n",
    "                                attlist[i].low_spam=attlist[i].low_spam+1\n",
    "                            elif attlist[i].num>=attlist[i].baseline and is_spam=='no':\n",
    "                                attlist[i].high_nonspam=attlist[i].high_nonspam+1\n",
    "                            elif attlist[i].num<attlist[i].baseline and is_spam=='no':\n",
    "                                attlist[i].low_nonspam=attlist[i].low_nonspam+1\n",
    "\n",
    "                for i in range(attrnum):\n",
    "                    attlist[i].sum=attlist[i].high_spam + attlist[i].low_spam + attlist[i].high_nonspam + attlist[i].low_nonspam\n",
    "                    attlist[i].spam_sum=attlist[i].high_spam + attlist[i].low_spam\n",
    "                    attlist[i].nonspam_sum=attlist[i].high_nonspam + attlist[i].low_nonspam \n",
    "\n",
    "                spam_p=1.0*attlist[1].spam_sum/(attlist[1].sum) #spammer比例\n",
    "                nonspam_p=1.0*attlist[1].nonspam_sum/(attlist[1].sum) #非spammer的比例\n",
    "\n",
    "                tp=0\n",
    "                tn=0\n",
    "                fp=0\n",
    "                fn=0\n",
    "                rownum=0\n",
    "                with open(filename,\"r\",encoding='UTF-8') as csvfile_new:\n",
    "                    reader = csv.DictReader(csvfile_new)\n",
    "                    for row in reader:\n",
    "                        rownum=rownum+1\n",
    "                        ps=1.0\n",
    "                        pns=1.0\n",
    "                        if rownum%group_num==test_group:\n",
    "                            for i in range(attrnum):  \n",
    "                                cur_num=float(row.get(attlist[i].name))\n",
    "                                is_spam=row.get('is_spammer')\n",
    "                                if cur_num>=attlist[i].baseline :\n",
    "                                    ps=ps*(1.0*attlist[i].high_spam/attlist[i].spam_sum)\n",
    "                                    pns=pns*(1.0*attlist[i].high_nonspam/attlist[i].nonspam_sum) \n",
    "                                elif cur_num<attlist[i].baseline:\n",
    "                                    ps=ps*(1.0*attlist[i].low_spam/attlist[i].spam_sum)\n",
    "                                    pns=pns*(1.0*attlist[i].low_nonspam/attlist[i].nonspam_sum)\n",
    "                                \n",
    "                                ps=1.0*ps*spam_p # probability of spammer\n",
    "                                pns=1.0*pns*nonspam_p # probability of non_spammer\n",
    "                                \n",
    "                            if ps>pns and is_spam==\"yes\": #build confusion matrix\n",
    "                                tp=tp+1\n",
    "                            elif ps<pns and is_spam==\"no\":\n",
    "                                tn=tn+1\n",
    "                            elif ps<=pns and is_spam==\"yes\":\n",
    "                                fp=fp+1\n",
    "                            elif ps>=pns and is_spam==\"no\":\n",
    "                                fn=fn+1\n",
    "\n",
    "                precision1=1.0*tp/(tp+fp)+precision1\n",
    "                precision2=1.0*tn/(tn+fn)+precision2\n",
    "                recall1=1.0*tp/(tp+fn)+recall1\n",
    "                recall2=1.0*tn/(tn+fp)+recall2     \n",
    "        precision1=precision1/group_num #平均准确率和召回率\n",
    "        precision2=precision2/group_num\n",
    "        recall1=recall1/group_num\n",
    "        recall2=recall2/group_num\n",
    "\n",
    "        f1score1=2.0*precision1*recall1/(precision1+recall1)\n",
    "        f1score2=2.0*precision2*recall2/(precision2+recall2)\n",
    "\n",
    "        print('results of naive bayes:')\n",
    "\n",
    "        print(\"     precision\\trecall\\tf-score\")\n",
    "        print(\"yes  \",round(precision1,2),\"\\t\",round(recall1,2),\"\\t\",round(f1score1,2))\n",
    "        print(\"no   \",round(precision2,2) ,\"\\t\",round(recall2,2),\"\\t\",round(f1score2,2))\n",
    "        print(\"avg  \",round((precision1+precision2)/2,2),\"\\t\",round((recall1+recall2)/2,2),\"\\t\",round((f1score1+f1score2)/2,2))        \n",
    "        \n",
    "\n",
    "file_path = 'spammer.csv'\n",
    "classifier = Bayes()\n",
    "classifier.naive_bayes(file_path)\n",
    "\n"
   ]
  },
  {
   "cell_type": "markdown",
   "metadata": {},
   "source": [
    "## 2. KNN method\n",
    "\n",
    "统计计算离它最近的k个账号中spammer账号与非spammer账号的计数值，将其归类为计数值较大的类别\n"
   ]
  },
  {
   "cell_type": "code",
   "execution_count": 78,
   "metadata": {},
   "outputs": [
    {
     "name": "stderr",
     "output_type": "stream",
     "text": [
      "d:\\python3.9\\lib\\site-packages\\sklearn\\neighbors\\_classification.py:198: DataConversionWarning: A column-vector y was passed when a 1d array was expected. Please change the shape of y to (n_samples,), for example using ravel().\n",
      "  return self._fit(X, y)\n"
     ]
    },
    {
     "name": "stdout",
     "output_type": "stream",
     "text": [
      "五折交叉验证结果：\t 0.730570 (+/- 0.115124)\n",
      "KNearestNeighbors Result:\n",
      "              precision    recall  f1-score   support\n",
      "\n",
      "         yes      0.858     0.618     0.719       186\n",
      "          no      0.683     0.890     0.773       172\n",
      "\n",
      "    accuracy                          0.749       358\n",
      "   macro avg      0.771     0.754     0.746       358\n",
      "weighted avg      0.774     0.749     0.745       358\n",
      "\n"
     ]
    }
   ],
   "source": [
    "model = KNeighborsClassifier(n_neighbors=50)\n",
    "clf = model.fit(x_train,y_train)\n",
    "answer = clf.predict_proba(x_test)[:,1]  \n",
    "report = answer > 0.5  \n",
    "scores = cross_val_score(model, x, y.ravel(), cv=5,scoring='accuracy')\n",
    "print('五折交叉验证结果：\\t %6f'%scores.mean()+' (+/- %6f)'%(scores.std()*2))\n",
    "print('KNearestNeighbors Result:')\n",
    "print(classification_report(y_test, report, target_names = ['yes', 'no'],digits=3)) "
   ]
  },
  {
   "cell_type": "markdown",
   "metadata": {},
   "source": [
    "## 3. Decision Tree\n",
    "\n",
    "ID3\n",
    "\n",
    "CART剪枝\n",
    "\n",
    "..."
   ]
  },
  {
   "cell_type": "code",
   "execution_count": 79,
   "metadata": {},
   "outputs": [
    {
     "name": "stdout",
     "output_type": "stream",
     "text": [
      "五折交叉验证结果：\t 0.793199 (+/- 0.157495)\n",
      "Decision Tree ID3 Result:\n",
      "              precision    recall  f1-score   support\n",
      "\n",
      "         yes      0.861     0.833     0.847       186\n",
      "          no      0.826     0.855     0.840       172\n",
      "\n",
      "    accuracy                          0.844       358\n",
      "   macro avg      0.843     0.844     0.843       358\n",
      "weighted avg      0.844     0.844     0.844       358\n",
      "\n"
     ]
    }
   ],
   "source": [
    "# ID3 method\n",
    "model_dt=DecisionTreeClassifier(criterion='entropy',max_depth=20)\n",
    "scores = cross_val_score(model_dt, x, y.ravel(), cv=5,scoring='accuracy')\n",
    "clf_dt = model_dt.fit(x_train,y_train)\n",
    "answer = clf_dt.predict_proba(x_test)[:,1]\n",
    "print('五折交叉验证结果：\\t %6f'%scores.mean()+' (+/- %6f)'%(scores.std()*2))\n",
    "print('Decision Tree ID3 Result:')\n",
    "print(classification_report(y_test, answer, target_names = ['yes', 'no'],digits=3)) "
   ]
  },
  {
   "cell_type": "code",
   "execution_count": 89,
   "metadata": {},
   "outputs": [
    {
     "name": "stdout",
     "output_type": "stream",
     "text": [
      "五折交叉验证结果：\t 0.790403 (+/- 0.147301)\n",
      "Decision Tree CART Result:\n",
      "              precision    recall  f1-score   support\n",
      "\n",
      "         yes      0.862     0.871     0.866       186\n",
      "          no      0.859     0.849     0.854       172\n",
      "\n",
      "    accuracy                          0.860       358\n",
      "   macro avg      0.860     0.860     0.860       358\n",
      "weighted avg      0.860     0.860     0.860       358\n",
      "\n"
     ]
    }
   ],
   "source": [
    "# CART prune\n",
    "model_dt=DecisionTreeClassifier(criterion='gini',max_depth=15)\n",
    "\n",
    "scores = cross_val_score(model_dt, x, y.ravel(), cv=5,scoring='accuracy')\n",
    "clf_dt = model_dt.fit(x_train,y_train)\n",
    "answer = clf_dt.predict_proba(x_test)[:,1]\n",
    "answer = answer>0.5\n",
    "print('五折交叉验证结果：\\t %6f'%scores.mean()+' (+/- %6f)'%(scores.std()*2))\n",
    "print('Decision Tree CART Result:')\n",
    "print(classification_report(y_test, answer, target_names = ['yes', 'no'],digits=3)) "
   ]
  },
  {
   "cell_type": "code",
   "execution_count": 90,
   "metadata": {},
   "outputs": [
    {
     "data": {
      "text/plain": [
       "True"
      ]
     },
     "execution_count": 90,
     "metadata": {},
     "output_type": "execute_result"
    }
   ],
   "source": [
    "#保存决策树的结果\n",
    "with open(\"ID3.dot\", 'w') as f:\n",
    "    f = tree.export_graphviz(clf_dt, out_file=f)\n",
    "import os\n",
    "os.environ[\"PATH\"] += os.pathsep + 'C:\\Program Files (x86)\\Graphviz\\\\bin'\n",
    "import pydotplus \n",
    "dot_data = tree.export_graphviz(clf_dt, out_file=None) \n",
    "graph = pydotplus.graph_from_dot_data(dot_data) \n",
    "graph.write_pdf(\"cart.pdf\")"
   ]
  },
  {
   "cell_type": "markdown",
   "metadata": {},
   "source": [
    "## 4. SVM 支持向量机"
   ]
  },
  {
   "cell_type": "code",
   "execution_count": 81,
   "metadata": {},
   "outputs": [
    {
     "name": "stdout",
     "output_type": "stream",
     "text": [
      "五折交叉验证结果：\t 0.801006 (+/- 0.128242)\n",
      "SVM rbf Result:\n",
      "              precision    recall  f1-score   support\n",
      "\n",
      "         yes      0.854     0.785     0.818       186\n",
      "          no      0.786     0.855     0.819       172\n",
      "\n",
      "    accuracy                          0.818       358\n",
      "   macro avg      0.820     0.820     0.818       358\n",
      "weighted avg      0.821     0.818     0.818       358\n",
      "\n"
     ]
    }
   ],
   "source": [
    "clf_svm = SVC(kernel='rbf', probability=True)\n",
    "scores = cross_val_score(clf_svm, x, y.ravel(), cv=5,scoring='accuracy')\n",
    "clf_svm = clf_svm.fit(x_train, y_train.ravel())\n",
    "answer = clf_svm.predict_proba(x_test)[:,1]\n",
    "report = answer>0.5\n",
    "print('五折交叉验证结果：\\t %6f'%scores.mean()+' (+/- %6f)'%(scores.std()*2))\n",
    "print('SVM rbf Result:')\n",
    "print(classification_report(y_test, report, target_names = ['yes', 'no'],digits=3)) "
   ]
  },
  {
   "cell_type": "code",
   "execution_count": 82,
   "metadata": {},
   "outputs": [
    {
     "name": "stdout",
     "output_type": "stream",
     "text": [
      "五折交叉验证结果：\t 0.787625 (+/- 0.127378)\n",
      "SVM rbf Result:\n",
      "              precision    recall  f1-score   support\n",
      "\n",
      "         yes      0.819     0.801     0.810       186\n",
      "          no      0.790     0.808     0.799       172\n",
      "\n",
      "    accuracy                          0.804       358\n",
      "   macro avg      0.804     0.805     0.804       358\n",
      "weighted avg      0.805     0.804     0.805       358\n",
      "\n"
     ]
    }
   ],
   "source": [
    "clf_svm = SVC(kernel='linear', probability=True)\n",
    "scores = cross_val_score(clf_svm, x, y.ravel(), cv=5,scoring='accuracy')\n",
    "clf_svm = clf_svm.fit(x_train, y_train.ravel())\n",
    "answer = clf_svm.predict_proba(x_test)[:,1]\n",
    "report = answer>0.5\n",
    "print('五折交叉验证结果：\\t %6f'%scores.mean()+' (+/- %6f)'%(scores.std()*2))\n",
    "print('SVM rbf Result:')\n",
    "print(classification_report(y_test, report, target_names = ['yes', 'no'],digits=3)) "
   ]
  },
  {
   "cell_type": "markdown",
   "metadata": {},
   "source": [
    "## 5. Random Forest\n",
    "\n",
    "随机森林涉及从训练数据集中的引导样本构建大量决策树，例如bagging，因此他的运算速度会有些慢，但是与此同时他的分类效果也是最好的。\n",
    "由于不涉及剪枝，他可能会有略微过拟合。"
   ]
  },
  {
   "cell_type": "code",
   "execution_count": 99,
   "metadata": {},
   "outputs": [
    {
     "name": "stdout",
     "output_type": "stream",
     "text": [
      "五折交叉验证结果：\t 0.849117 (+/- 0.187029)\n",
      "SVM rbf Result:\n",
      "              precision    recall  f1-score   support\n",
      "\n",
      "         yes      0.880     0.909     0.894       186\n",
      "          no      0.898     0.866     0.882       172\n",
      "\n",
      "    accuracy                          0.888       358\n",
      "   macro avg      0.889     0.887     0.888       358\n",
      "weighted avg      0.889     0.888     0.888       358\n",
      "\n"
     ]
    }
   ],
   "source": [
    "clf_rf = RandomForestClassifier()\n",
    "scores = cross_val_score(clf_rf, x, y.ravel(), cv=5,scoring='accuracy')\n",
    "clf_rf = clf_rf.fit(x_train, y_train.ravel())\n",
    "answer = clf_rf.predict_proba(x_test)[:,1]\n",
    "report = answer>0.5\n",
    "print('五折交叉验证结果：\\t %6f'%scores.mean()+' (+/- %6f)'%(scores.std()*2))\n",
    "print('SVM rbf Result:')\n",
    "print(classification_report(y_test, report, target_names = ['yes', 'no'],digits=3)) "
   ]
  },
  {
   "cell_type": "code",
   "execution_count": 100,
   "metadata": {},
   "outputs": [
    {
     "name": "stdout",
     "output_type": "stream",
     "text": [
      " 1) 关注数                            0.185645\n",
      " 2) follow_ratio                   0.107558\n",
      " 3) 微博数                            0.102989\n",
      " 4) simiscore                      0.089827\n",
      " 5) 粉丝数                            0.079730\n",
      " 6) fan_fan_ave                    0.059374\n",
      " 7) comment_count                  0.043250\n",
      " 8) ave_att                        0.024150\n",
      " 9) ave_comment                    0.022005\n",
      "10) most_theme_pct                 0.021577\n",
      "11) most_theme_7                   0.021517\n",
      "12) att_count                      0.021204\n",
      "13) followed_fan_ave               0.020741\n",
      "14) most_theme_5                   0.020364\n",
      "15) ave_like                       0.019132\n",
      "16) ave_jing                       0.017445\n",
      "17) tweet_count                    0.016216\n",
      "18) like_count                     0.016203\n",
      "19) ave_zhuanfa                    0.014792\n",
      "20) jing_count                     0.014587\n",
      "21) theme_num                      0.013344\n",
      "22) mutual                         0.011800\n",
      "23) zhuanfa_count                  0.008942\n",
      "24) most_theme_6                   0.007471\n",
      "25) has_intro                      0.007295\n",
      "26) ave_repost                     0.006063\n",
      "27) most_theme_1                   0.004848\n",
      "28) most_theme_3                   0.004555\n",
      "29) repost_count                   0.004088\n",
      "30) most_theme_4                   0.003673\n",
      "31) most_theme_2                   0.003053\n",
      "32) most_theme_0                   0.002987\n",
      "33) most_theme_8                   0.002200\n",
      "34) most_theme_                    0.001377\n",
      "35) url_count                      0.000000\n",
      "36) ave_url                        0.000000\n"
     ]
    }
   ],
   "source": [
    "importances = clf_rf.feature_importances_\n",
    "indices = np.argsort(importances)[::-1]\n",
    "feat_labels = x_train.columns\n",
    "feature_list=[]\n",
    "for f in range(x_train.shape[1]):\n",
    "    feature_list.append([feat_labels[indices[f]],importances[indices[f]]])\n",
    "    print(\"%2d) %-*s %f\" % (f + 1, 30, feat_labels[indices[f]], importances[indices[f]]))"
   ]
  },
  {
   "cell_type": "code",
   "execution_count": 16,
   "metadata": {},
   "outputs": [],
   "source": [
    "import csv\n",
    "with open(\"feature_output.csv\", \"w\") as f:\n",
    "    writer = csv.writer(f)\n",
    "    writer.writerows(feature_list)"
   ]
  },
  {
   "cell_type": "code",
   "execution_count": 32,
   "metadata": {},
   "outputs": [
    {
     "name": "stdout",
     "output_type": "stream",
     "text": [
      ">10 0.827321 (0.099251)\n",
      ">50 0.856952 (0.091057)\n",
      ">100 0.846896 (0.096382)\n",
      ">500 0.848566 (0.099166)\n",
      ">1000 0.845776 (0.095273)\n"
     ]
    },
    {
     "data": {
      "image/png": "[encoded data removed]",
      "text/plain": [
       "<Figure size 432x288 with 1 Axes>"
      ]
     },
     "metadata": {
      "needs_background": "light"
     },
     "output_type": "display_data"
    }
   ],
   "source": [
    "def get_models():\n",
    "\tmodels = dict()\n",
    "\t# define number of trees to consider\n",
    "\tn_trees = [10, 50, 100, 500, 1000]\n",
    "\tfor n in n_trees:\n",
    "\t\tmodels[str(n)] = RandomForestClassifier(n_estimators=n)\n",
    "\treturn models\n",
    " \n",
    "# evaluate a given model using cross-validation\n",
    "def evaluate_model(model, X, y):\n",
    "\t# evaluate the model and collect the results\n",
    "\tscores = cross_val_score(model, X, y, scoring='accuracy', cv=10, n_jobs=-1)\n",
    "\treturn scores\n",
    "\n",
    "# get the models to evaluate\n",
    "models = get_models()\n",
    "# evaluate the models and store results\n",
    "results, names = list(), list()\n",
    "for name, model in models.items():\n",
    "\t# evaluate the model\n",
    "\tscores = evaluate_model(model, x, y)\n",
    "\t# store the results\n",
    "\tresults.append(scores)\n",
    "\tnames.append(name)\n",
    "\t# summarize the performance along the way\n",
    "\tprint('>%s %.6f (%.6f)' % (name, scores.mean(), scores.std()))\n",
    "# plot model performance for comparison\n",
    "plt.boxplot(results, labels=names, showmeans=True)\n",
    "plt.title('Explore num of Trees')\n",
    "plt.xlabel('Num of Trees')\n",
    "plt.ylabel('Accuracy')\n",
    "plt.show()"
   ]
  },
  {
   "cell_type": "code",
   "execution_count": 22,
   "metadata": {},
   "outputs": [
    {
     "name": "stdout",
     "output_type": "stream",
     "text": [
      ">3 0.830117 (0.086544)\n",
      ">4 0.834025 (0.086325)\n",
      ">5 0.847448 (0.086223)\n",
      ">6 0.854714 (0.083466)\n",
      ">7 0.848566 (0.088064)\n",
      ">None 0.856393 (0.092985)\n"
     ]
    },
    {
     "data": {
      "image/png": "[encoded data removed]",
      "text/plain": [
       "<Figure size 432x288 with 1 Axes>"
      ]
     },
     "metadata": {
      "needs_background": "light"
     },
     "output_type": "display_data"
    }
   ],
   "source": [
    "def get_models():\n",
    "    models=dict()\n",
    "    depths = [i for i in range(3,8)] + [None]\n",
    "    for n in depths:\n",
    "        models[str(n)] = RandomForestClassifier(max_depth=n)\n",
    "    return models\n",
    " \n",
    "# evaluate a given model using cross-validation\n",
    "def evaluate_model(model, X, y):\n",
    "\t# evaluate the model and collect the results\n",
    "\tscores = cross_val_score(model, X, y, scoring='accuracy', cv=10, n_jobs=-1)\n",
    "\treturn scores\n",
    "\n",
    "# get the models to evaluate\n",
    "models = get_models()\n",
    "# evaluate the models and store results\n",
    "results, names = list(), list()\n",
    "for name, model in models.items():\n",
    "\t# evaluate the model\n",
    "\tscores = evaluate_model(model, x, y)\n",
    "\t# store the results\n",
    "\tresults.append(scores)\n",
    "\tnames.append(name)\n",
    "\t# summarize the performance along the way\n",
    "\tprint('>%s %.6f (%.6f)' % (name, scores.mean(), scores.std()))\n",
    "# plot model performance for comparison\n",
    "plt.boxplot(results, labels=names, showmeans=True)\n",
    "plt.title('Explore Maximum Tree Depth')\n",
    "plt.xlabel('Maximum Tree Depth')\n",
    "plt.ylabel('Accuracy')\n",
    "plt.show()"
   ]
  },
  {
   "cell_type": "markdown",
   "metadata": {},
   "source": [
    "## 6. Adaboost\n",
    "使用同一个训练集\n",
    "训练不同的弱分类器，然后把这些弱分类器集合起来，构成一个强的最终分类器\n"
   ]
  },
  {
   "cell_type": "code",
   "execution_count": 87,
   "metadata": {},
   "outputs": [
    {
     "name": "stdout",
     "output_type": "stream",
     "text": [
      "五折交叉验证结果：\t 0.820051 (+/- 0.228923)\n",
      "SVM rbf Result:\n",
      "              precision    recall  f1-score   support\n",
      "\n",
      "         yes      0.901     0.882     0.891       186\n",
      "          no      0.875     0.895     0.885       172\n",
      "\n",
      "    accuracy                          0.888       358\n",
      "   macro avg      0.888     0.889     0.888       358\n",
      "weighted avg      0.889     0.888     0.888       358\n",
      "\n"
     ]
    }
   ],
   "source": [
    "clf_adb = AdaBoostClassifier()\n",
    "scores = cross_val_score(clf_adb, x, y.ravel(), cv=5)\n",
    "clf_adb = clf_adb.fit(x_train, y_train.ravel())\n",
    "answer = clf_adb.predict_proba(x_test)[:,1]\n",
    "report = answer>0.5\n",
    "print('五折交叉验证结果：\\t %6f'%scores.mean()+' (+/- %6f)'%(scores.std()*2))\n",
    "print('SVM rbf Result:')\n",
    "print(classification_report(y_test, report, target_names = ['yes', 'no'],digits=3)) "
   ]
  },
  {
   "cell_type": "markdown",
   "metadata": {},
   "source": [
    "总结：\n",
    "\n",
    "决策树和决策森林的效果在几种方法中间最突出\n",
    "\n",
    "当加入主题信息之后对于异常粉丝和正常粉丝的分类变得非常明显，分类效果有显著提升。"
   ]
  }
 ],
 "metadata": {
  "interpreter": {
   "hash": "7acb2566f01bf27888f586609b378558894aa82f04dc781041790cf6d0c45f57"
  },
  "kernelspec": {
   "display_name": "Python 3.9.2 64-bit",
   "language": "python",
   "name": "python3"
  },
  "language_info": {
   "codemirror_mode": {
    "name": "ipython",
    "version": 3
   },
   "file_extension": ".py",
   "mimetype": "text/x-python",
   "name": "python",
   "nbconvert_exporter": "python",
   "pygments_lexer": "ipython3",
   "version": "3.9.2"
  },
  "orig_nbformat": 4
 },
 "nbformat": 4,
 "nbformat_minor": 2
}
